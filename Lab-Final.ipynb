{
  "cells": [
    {
      "cell_type": "markdown",
      "metadata": {},
      "source": [
        "Problem : 01"
      ]
    },
    {
      "cell_type": "code",
      "execution_count": null,
      "metadata": {
        "colab": {
          "base_uri": "https://localhost:8080/"
        },
        "id": "LNpdhFAPx04Z",
        "outputId": "02416561-d006-40f7-b106-f13b96f1d972"
      },
      "outputs": [
        {
          "name": "stdout",
          "output_type": "stream",
          "text": [
            "String 1: I am a student\n",
            "Number of vowels: 5\n",
            "Number of words: 4\n",
            "Total length: 14\n"
          ]
        }
      ],
      "source": [
        "A=input('String 1: ')\n",
        "words = len(A.split())\n",
        "\n",
        "vowels=0\n",
        "for i in A:\n",
        "      if(i=='a' or i=='e' or i=='i' or i=='o' or i=='u' or i=='A' or i=='E' or i=='I' or i=='O' or i=='U'):\n",
        "            vowels = vowels+1\n",
        "\n",
        "total_length = 0\n",
        "for c in A:\n",
        "    total_length += 1\n",
        "\n",
        "\n",
        "print(f'Number of vowels: {vowels}')\n",
        "print (f'Number of words: {words}')\n",
        "print(f'Total length: {total_length}')"
      ]
    },
    {
      "cell_type": "markdown",
      "metadata": {},
      "source": [
        "Problem :02"
      ]
    },
    {
      "cell_type": "code",
      "execution_count": null,
      "metadata": {
        "colab": {
          "base_uri": "https://localhost:8080/"
        },
        "id": "9J6Ff6G_0kH-",
        "outputId": "a2c69cc9-c3f6-4e46-934a-d22a2a7852e0"
      },
      "outputs": [
        {
          "name": "stdout",
          "output_type": "stream",
          "text": [
            "I saw her selling sea shells in the sea shore\n",
            "['i', 'saw', 'her', 'selling', 'sea', 'shells', 'in', 'the', 'sea', 'shore']\n",
            "{'i': ('i', 'in'), 's': ('saw', 'selling', 'sea', 'shells', 'sea', 'shore'), 'h': ('her',), 't': ('the',)}\n"
          ]
        }
      ],
      "source": [
        "A = input()\n",
        "msg = A.lower()\n",
        "\n",
        "msg_list = msg.split(\" \")\n",
        "msg_dict = {}\n",
        "msg_tuple = ()\n",
        "\n",
        "print(msg_list)\n",
        "for word in msg_list:\n",
        "    new_key = word[0]\n",
        "    if new_key not in msg_dict:\n",
        "        msg_dict[new_key] = ()\n",
        "    msg_dict[new_key] = msg_dict[new_key] + (word,)\n",
        "\n",
        "print(msg_dict)"
      ]
    },
    {
      "cell_type": "markdown",
      "metadata": {},
      "source": [
        "Problem :03"
      ]
    },
    {
      "cell_type": "code",
      "execution_count": null,
      "metadata": {
        "colab": {
          "base_uri": "https://localhost:8080/"
        },
        "id": "EeutXUSA0kLu",
        "outputId": "6f9e2908-e96e-413a-8650-33d0b61041d6"
      },
      "outputs": [
        {
          "name": "stdout",
          "output_type": "stream",
          "text": [
            "3 20 5 16 7 9 "
          ]
        }
      ],
      "source": [
        "\n",
        "def rearrangeArray(arr, n):\n",
        "    arr.sort()\n",
        "\n",
        "    tempArr = [0] * (n)\n",
        "\n",
        "    ArrIndex = 0\n",
        "\n",
        "    i = 0\n",
        "    j = n-1\n",
        "\n",
        "    while(i < n // 2 or j >= n // 2 ) :\n",
        "\n",
        "        tempArr[ArrIndex] = arr[i]\n",
        "        ArrIndex = ArrIndex + 1\n",
        "        tempArr[ArrIndex] = arr[j]\n",
        "        ArrIndex = ArrIndex + 1\n",
        "        i = i + 1\n",
        "        j = j - 1\n",
        "\n",
        "    for i in range(0, n) :\n",
        "        arr[i] = tempArr[i]\n",
        "\n",
        "arr = [ 9, 3, 5, 7, 16, 20 ]\n",
        "n = len(arr)\n",
        "rearrangeArray(arr, n)\n",
        "\n",
        "for i in range(0, n) :\n",
        "    print( arr[i], end = \" \")"
      ]
    }
  ],
  "metadata": {
    "colab": {
      "provenance": []
    },
    "kernelspec": {
      "display_name": "Python 3",
      "name": "python3"
    },
    "language_info": {
      "name": "python"
    }
  },
  "nbformat": 4,
  "nbformat_minor": 0
}
