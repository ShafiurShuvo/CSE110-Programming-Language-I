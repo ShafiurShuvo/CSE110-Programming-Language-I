{
  "cells": [
    {
      "cell_type": "markdown",
      "metadata": {
        "id": "9bxL5UzU1Wbt"
      },
      "source": [
        "Problem : 01"
      ]
    },
    {
      "cell_type": "code",
      "execution_count": null,
      "metadata": {
        "colab": {
          "base_uri": "https://localhost:8080/"
        },
        "id": "RJmNt6F41IR4",
        "outputId": "e399ab52-f1aa-456b-b18c-7c1eaeac6f8e"
      },
      "outputs": [
        {
          "name": "stdout",
          "output_type": "stream",
          "text": [
            "5\n",
            "66\n"
          ]
        }
      ],
      "source": [
        "n=int(input())\n",
        "if(n%2!=0 and n>2):\n",
        "    x=1\n",
        "    y=0\n",
        "    for s in range(1,n,2):\n",
        "        if(x%3!=0):\n",
        "            y=y+(s*(s+1)*(s+2))\n",
        "        else:\n",
        "            y=y-(s*(s+1)*(s+2))\n",
        "        x=x+1\n",
        "    print(y)\n",
        "else:\n",
        "    print(\"Invalid Input!\")"
      ]
    },
    {
      "cell_type": "markdown",
      "metadata": {
        "id": "7USYYz7x1a7N"
      },
      "source": [
        "Problem :02\n"
      ]
    },
    {
      "cell_type": "code",
      "execution_count": null,
      "metadata": {
        "colab": {
          "base_uri": "https://localhost:8080/"
        },
        "id": "fUOE0uGF3nlH",
        "outputId": "020e5125-e237-4aa9-f2e9-685a715bd90b"
      },
      "outputs": [
        {
          "name": "stdout",
          "output_type": "stream",
          "text": [
            " the quick brown fox jumps over the lazy dog\n",
            "t1e q3k b3n f1x j3s o2r t1e l2y d1g "
          ]
        }
      ],
      "source": [
        "a = str(input(\" \"))\n",
        "words = list(a.split(\" \"))\n",
        "for word in words:\n",
        "  totalcount = len(word)\n",
        "  if totalcount == 1 or totalcount == 2:\n",
        "    print(word, end= \" \")\n",
        "  else:\n",
        "    count2 = int(totalcount - 2)\n",
        "    f_char = word[0]\n",
        "    l_char = word[-1]\n",
        "    print(f_char + str(count2) + l_char, end= \" \")"
      ]
    }
  ],
  "metadata": {
    "colab": {
      "provenance": []
    },
    "kernelspec": {
      "display_name": "Python 3",
      "name": "python3"
    },
    "language_info": {
      "name": "python"
    }
  },
  "nbformat": 4,
  "nbformat_minor": 0
}
