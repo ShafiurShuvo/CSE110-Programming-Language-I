{
 "cells": [
  {
   "cell_type": "markdown",
   "metadata": {
    "id": "ZXvFDb3VLf5p"
   },
   "source": [
    "# CSE110 Lab Assignment 8 on File I/O & Exception\n",
    "\n",
    "Please write your name, student ID and CSE110 section below:\n",
    "\n",
    "\n"
   ]
  },
  {
   "cell_type": "code",
   "execution_count": null,
   "metadata": {
    "id": "ft6hkS9Oguhw"
   },
   "outputs": [],
   "source": [
    "#STUDENT NAME: MD. Shafiur Rahman\n",
    "#STUDENT ID: 21201613\n",
    "#CSE110 SECTION: 15"
   ]
  },
  {
   "cell_type": "markdown",
   "metadata": {
    "id": "4fjLeMMMEEKB"
   },
   "source": [
    "**<font color='red'>[MUST MAINTAIN VARIABLE NAMING CONVENTIONS FOR ALL THE TASKS]</font>**\n",
    "\n",
    "## Part 1: File\n",
    "\n",
    "### Task 1\n",
    "\n",
    "Write a python program that reads the first n lines of a text file.\n",
    "\n",
    "Suppose you have a file with all these strings in a file.\n",
    "\n",
    "=========================================================\n",
    "\n",
    "I love Python Programming.\\\n",
    "It is very easy to understand the code.\\\n",
    "It can code very hard problems easily in python code.\\\n",
    "Python programming is the best programming language.\n",
    "\n",
    "=========================================================\n",
    "\n",
    "\n",
    "**Input :**\\\n",
    "2\\\n",
    "**Output :**\\\n",
    "I love Python Programming.\\\n",
    "It is very easy to understand the code.\n",
    "\n",
    "=========================================================\n",
    "\n",
    "**Hint(1):**\\\n",
    "Use counter to control line number.\n",
    "\n",
    "**Hint(2):**\\\n",
    "Use function readlines() to store in a list and then use loop\n",
    "\n",
    "OR you can use readline() in a loop.\n",
    "\n",
    "**Hint(3):**\\\n",
    "You might need to use strip() function"
   ]
  },
  {
   "cell_type": "code",
   "execution_count": 14,
   "metadata": {
    "colab": {
     "base_uri": "https://localhost:8080/",
     "height": 252
    },
    "id": "Kb0Fn1AsEHVR",
    "outputId": "13f16201-310e-4109-c251-c48f75ec40ef"
   },
   "outputs": [
    {
     "name": "stdin",
     "output_type": "stream",
     "text": [
      "Enter a number:  3\n"
     ]
    },
    {
     "name": "stdout",
     "output_type": "stream",
     "text": [
      "I love Python Programming.\n",
      "It is very easy to understand the code.\n",
      "It can code very hard problems easily in python code.\n"
     ]
    }
   ],
   "source": [
    "#to do\n",
    "A = int(input('Enter a number: '))\n",
    "file = open(\"task1.txt\",\"r\")\n",
    "list1 = file.readlines()\n",
    "for count in range(A):\n",
    "    print(list1[count],end=\"\")\n",
    "file.close()"
   ]
  },
  {
   "cell_type": "markdown",
   "metadata": {
    "id": "6C9IjoWsEJlJ"
   },
   "source": [
    "### Task 2\n",
    "\n",
    "Write a python program to find the longest word in a file. Then print the word.\\\n",
    "**Input: [in a file]**\\\n",
    "I love Python Programming\\\n",
    "It is very easy to understand the code\\\n",
    "It can code very hard problems easily in python code\\\n",
    "Python programming is the best programming language\n",
    "\n",
    "\n",
    "\n",
    "**Output:**\\\n",
    "Programming\n",
    "\n",
    "=========================================================\n",
    "\n",
    "**Hint(1):**\\\n",
    "You can use split function to separate the words into a list.\n",
    "\n",
    "**Hint(2):**\\\n",
    "Use function readlines()"
   ]
  },
  {
   "cell_type": "code",
   "execution_count": 10,
   "metadata": {},
   "outputs": [
    {
     "name": "stdout",
     "output_type": "stream",
     "text": [
      "Programming\n"
     ]
    }
   ],
   "source": [
    "#to do\n",
    "file = open(\"task2.txt\")\n",
    "list1 = file.readlines()\n",
    "\n",
    "maxlen = 0\n",
    "maxword = None\n",
    "\n",
    "for i in list1:\n",
    "    i = i.split()\n",
    "\n",
    "    for j in i:\n",
    "        if len(j) > maxlen:\n",
    "            maxlen = len(j)\n",
    "            maxword = j\n",
    "\n",
    "        else:\n",
    "            pass\n",
    "\n",
    "print(maxword)\n",
    "file.close()"
   ]
  },
  {
   "cell_type": "markdown",
   "metadata": {
    "id": "Y0dBzRxdEK1R"
   },
   "source": [
    "### Task 3\n",
    "Write a python program that allows you to erase multiple spaces in a text file. Then re-write the sentence without extra spaces in a another text file.\n",
    "\n",
    "=========================================================\n",
    "\n",
    "**Input:**\n",
    "\n",
    "I&nbsp;&nbsp;&nbsp;&nbsp;&nbsp;&nbsp;love  &nbsp;&nbsp;&nbsp;&nbsp;&nbsp;&nbsp;&nbsp;             Python   &nbsp;&nbsp;&nbsp;&nbsp;&nbsp;&nbsp;&nbsp;&nbsp;          Programming\n",
    "\n",
    "**Output:**\\\n",
    "I love Python Programming.\n",
    "\n",
    "=========================================================\n",
    "\n",
    "**Hints:**\\\n",
    "You can use split function to separate the words into a list.\n"
   ]
  },
  {
   "cell_type": "code",
   "execution_count": 35,
   "metadata": {
    "colab": {
     "base_uri": "https://localhost:8080/",
     "height": 234
    },
    "id": "a0yJHr82ENWF",
    "outputId": "16c6fd30-c6e3-4a1c-a1f5-c46f3ba9aecd"
   },
   "outputs": [
    {
     "name": "stdout",
     "output_type": "stream",
     "text": [
      "I love Python Programming\n"
     ]
    }
   ],
   "source": [
    "#to do\n",
    "file = open(\"task3.txt\")\n",
    "list1 = file.readlines()\n",
    "final = \"\"\n",
    "for i in list1:\n",
    "    i = i.split()\n",
    "    count = 0\n",
    "    rep = len(i) -1\n",
    "    for j in i:\n",
    "        if count == rep:\n",
    "            final += j\n",
    "        else:\n",
    "            final += j + \" \"\n",
    "            count += 1\n",
    "file2 = open(\"result3.txt\",\"w\")\n",
    "print(final)\n",
    "file2.write(final)\n",
    "file.close()\n",
    "file2.close()"
   ]
  },
  {
   "cell_type": "markdown",
   "metadata": {
    "id": "OOFNxcqqENje"
   },
   "source": [
    "### Task 4\n",
    "Write a Python program to count the number of lines in a text file. Then, finally print the total number of lines.\n",
    "\n",
    "=========================================================\n",
    "\n",
    "**Input:**\\\n",
    "Hello\\\n",
    "What are you doing\\\n",
    "I am fine\n",
    "\n",
    "**Output:**\\\n",
    "3\n"
   ]
  },
  {
   "cell_type": "code",
   "execution_count": 36,
   "metadata": {
    "colab": {
     "base_uri": "https://localhost:8080/",
     "height": 234
    },
    "id": "PRPocuTJEP0v",
    "outputId": "91a22ed5-fbbf-4309-891b-08b4523edbf6"
   },
   "outputs": [
    {
     "name": "stdout",
     "output_type": "stream",
     "text": [
      "3\n"
     ]
    }
   ],
   "source": [
    "#to do\n",
    "file = open(\"task4.txt\")\n",
    "count = 0 \n",
    "list1 = file.readlines()\n",
    "for i in list1:\n",
    "    count+= 1\n",
    "print(count)\n",
    "file.close()"
   ]
  },
  {
   "cell_type": "markdown",
   "metadata": {
    "id": "LiSNirheEQHf"
   },
   "source": [
    "### Task 5\n",
    "\n",
    "Write a Python program to combine each line from the first file with the corresponding line in the second file and then save it in a 3rd file.\n",
    "\n",
    "Consider, both the files have same number of lines. Assume, each line has a newline(\\n) at the end.\n",
    "\n",
    "=========================================================\n",
    "\n",
    "**Example:**\\\n",
    "**Input from file 1:**\\\n",
    "Hello\\\n",
    "Hi\\\n",
    "Nice\n",
    "\n",
    "**Input from file 2:**\\\n",
    "Bad\\\n",
    "Worse\\\n",
    "Worst\n",
    "\n",
    "**Output in 3rd FIle:**\\\n",
    "Hello Bad\\\n",
    "Hi Worse\\\n",
    "Nice Worst \n",
    "\n",
    "=========================================================\n",
    "\n",
    "**Hint(1):**\\\n",
    " Use the write() function\n",
    "\n",
    "\n",
    "\n"
   ]
  },
  {
   "cell_type": "code",
   "execution_count": 1,
   "metadata": {
    "id": "b-b4xnHLETDY"
   },
   "outputs": [
    {
     "name": "stdout",
     "output_type": "stream",
     "text": [
      "Hello Bad\n",
      "Hi Worse\n",
      "Nice Worst\n"
     ]
    }
   ],
   "source": [
    "#to do\n",
    "file1 = open(\"task5.1.txt\")\n",
    "file2 = open(\"task5.2.txt\")\n",
    "list1 = file1.readlines()\n",
    "list2 = file2.readlines()\n",
    "lim = len(list1) -1\n",
    "count = 0\n",
    "final = \"\"\n",
    "for elm in range(len(list1)):\n",
    "    word1 = list1[elm].strip()\n",
    "    word2 = list2[elm].strip()\n",
    "    if count == lim:\n",
    "        final += word1 + \" \" + word2\n",
    "    else:\n",
    "        final += word1 + \" \" + word2 + \"\\n\"\n",
    "        count += 1\n",
    "\n",
    "print(final)\n",
    "file3 = open(\"result5.txt\",\"w\")\n",
    "file3.write(final)\n",
    "file1.close()\n",
    "file2.close()\n",
    "file3.close()"
   ]
  },
  {
   "cell_type": "markdown",
   "metadata": {
    "id": "6J7MA_zNCbCg"
   },
   "source": [
    "## Part 2: Exception \n"
   ]
  },
  {
   "cell_type": "markdown",
   "metadata": {
    "id": "tZow-v3MLoLE"
   },
   "source": [
    "### Task 6\n",
    "Given a list named my_list.\n",
    "\n",
    "my_list = [10, 20, 30, 40, 60, 100, 2, 5]\n",
    "\n",
    "Write a python program that takes the position as an input from the user and prints the element of that position from the list. \n",
    "\n",
    "If the user’s input position is not in the range, return an exception stating \"Index out of range\".\n",
    "\n",
    "If the user’s input position is not an Ingeter number, return an exception stating \"For position, please enter an Integer value\".\n",
    "\n",
    "Make sure your program always prints \"Program ended\" at the end, no matter what happens.\n",
    "\n",
    "=============================\n",
    "\n",
    "**Hint:** Use finally block\n",
    "\n",
    "=============================\n",
    "\n",
    "**Example 1:** \\\n",
    "**Input:**\\\n",
    "1\\\n",
    "**Output:**\\\n",
    "20\\\n",
    "Program ended\n",
    "\n",
    "=============================\n",
    "\n",
    "**Example 2:** \\\n",
    "**Input:**\\\n",
    "10\\\n",
    "**Output:**\\\n",
    "Index out of range.\\\n",
    "Program ended\n",
    "\n",
    "\n",
    "\n",
    "=============================\n",
    "\n",
    "**Example 3:** \\\n",
    "**Input:**\\\n",
    "hello\\\n",
    "**Output:**\\\n",
    "For position, please enter an Integer value.\\\n",
    "Program ended\n"
   ]
  },
  {
   "cell_type": "code",
   "execution_count": 18,
   "metadata": {
    "colab": {
     "base_uri": "https://localhost:8080/"
    },
    "id": "c9yKuS5kLdDO",
    "outputId": "76ff12b7-05b7-4ed2-b070-8cce94536e47"
   },
   "outputs": [
    {
     "name": "stdin",
     "output_type": "stream",
     "text": [
      "Enter a number: hello\n"
     ]
    },
    {
     "name": "stdout",
     "output_type": "stream",
     "text": [
      "For position, please enter an Integer value\n",
      "Program ended\n"
     ]
    }
   ],
   "source": [
    "#to do\n",
    "my_list=[10,20,30,40,60,100,2,5]\n",
    "num = (input(\"Enter a number:\"))\n",
    "try:\n",
    "    num = int(num)\n",
    "    final = my_list[num]\n",
    "    print(final)\n",
    "except IndexError:\n",
    "    print(\"Index out of range\")\n",
    "except Exception:\n",
    "    print(\"For position, please enter an Integer value\")\n",
    "finally:\n",
    "    print(\"Program ended\")"
   ]
  },
  {
   "cell_type": "markdown",
   "metadata": {
    "id": "gD4MMyO_Mtw4"
   },
   "source": [
    "### Task 7\n",
    "\n",
    "Suppose you have a dictionary named my_dictionary containing the name of some groceries and their prices.\\\n",
    "my_dictionary={\"Potato\":12, \"Onion\":16, \"Ginger\":15, \"Garlic\":12, \"Tomato\":15}\n",
    "\n",
    "Now write a python program that takes the grocerie names as input from the user and shows the total price of the groceries.\n",
    "\n",
    "Some exceptions to handle:\n",
    "* Handle the exception when the given key is not present in the dictionary.\n",
    "* Handle the exception when the summation variable is not initialized properly. (the variable to store the total price has been initialized at 0 or not)\n",
    "\n",
    "=============================\n",
    "\n",
    "**Example 1:** \\\n",
    "**Input:**\\\n",
    "Potato,Onion,Ginger\\\n",
    "**Output:**\\\n",
    "43\n",
    "\n",
    "=============================\n",
    "\n",
    "**Example 2:** \\\n",
    "**Input:**\\\n",
    "Potato,Onion,Ginger,Beef\\\n",
    "**Output:**\\\n",
    "Some groceries are not available in the dictionary.\n"
   ]
  },
  {
   "cell_type": "code",
   "execution_count": 20,
   "metadata": {
    "colab": {
     "base_uri": "https://localhost:8080/"
    },
    "id": "15umlUXTNe5N",
    "outputId": "d4566b0e-f6b3-4e3a-8e6f-d26de67e831f"
   },
   "outputs": [
    {
     "name": "stdin",
     "output_type": "stream",
     "text": [
      "Enter the groceries:  Potato,Onion,Ginger\n"
     ]
    },
    {
     "name": "stdout",
     "output_type": "stream",
     "text": [
      "43\n"
     ]
    }
   ],
   "source": [
    "#to do\n",
    "my_dictionary={\"Potato\":12, \"Onion\":16, \"Ginger\":15, \"Garlic\":12, \"Tomato\":15}\n",
    "A = input(\"Enter the groceries: \")\n",
    "A = A.split(\",\")\n",
    "try:\n",
    "    sum1 = 0\n",
    "    if sum1 != 0:\n",
    "        raise NameError\n",
    "    for elm in A:\n",
    "        sum1 += my_dictionary[elm]\n",
    "    print(sum1)\n",
    "except NameError:\n",
    "    print(\"summation variable is not initialized properly.\")\n",
    "except KeyError:\n",
    "    print(\"Some groceries are not available in the dictionary.\")"
   ]
  },
  {
   "cell_type": "markdown",
   "metadata": {
    "id": "l5SgF6kTN7vY"
   },
   "source": [
    "### Task 8\n",
    "Write a python program that takes two lists as input from the user, multiplies the index wise elements of the two lists and adds it to a new variable. While doing the program you should handle the following exceptions:\n",
    "* Return an exception if an element in a list is not a number stating “The list has some non number values”.\n",
    "* Return an exception if there is an index out of bound stating “Index out of bound”.\n",
    "\n",
    "=============================\n",
    "\n",
    "**Example 1:** \\\n",
    "**Input:**\\\n",
    "list_one = [1, a, 2, 4]\\\n",
    "list_two =[5, 6, 7, 8]\\\n",
    "**Output:**\\\n",
    "The list has some non number values\n",
    "\n",
    "=================\n",
    "\n",
    "**Example 2:** \\\n",
    "**Input:**\\\n",
    "list_one=[1, 2, 3, 4, 5]\\\n",
    "list_two=[1, 2, 3, 4]\\\n",
    "**Output:**\\\n",
    "Index out of bound\n",
    "\n",
    "=================\n",
    "\n",
    "**Example 3:** \\\n",
    "**Input:**\\\n",
    "list_one=[1,2,3,4]\\\n",
    "list_two=[5,6,7,8]\\\n",
    "**Output:**\\\n",
    "70\n",
    "\n",
    "\n"
   ]
  },
  {
   "cell_type": "code",
   "execution_count": 7,
   "metadata": {
    "id": "oFpEZFRhOlvV"
   },
   "outputs": [
    {
     "name": "stdin",
     "output_type": "stream",
     "text": [
      "Enter a list:  [1,2,3,4]\n",
      "Enter a list:  [5,6,7,8]\n"
     ]
    },
    {
     "name": "stdout",
     "output_type": "stream",
     "text": [
      "70\n"
     ]
    }
   ],
   "source": [
    "#to do\n",
    "list_one = input(\"Enter a list: \")\n",
    "list_one = list_one[1:-1]\n",
    "list_one = list_one.split(\",\")\n",
    "\n",
    "list_two = input(\"Enter a list: \")\n",
    "list_two = list_two[1:-1]\n",
    "list_two = list_two.split(\",\")\n",
    "\n",
    "final = 0\n",
    "\n",
    "try:\n",
    "    for i in range(max(len(list_one), len(list_two))):\n",
    "        final += int(list_one[i]) * int(list_two[i])\n",
    "    print(final)\n",
    "    \n",
    "except ValueError:\n",
    "    print(\"The list has some non number values\")\n",
    "\n",
    "except IndexError:\n",
    "    print(\"Index out of bound\")"
   ]
  },
  {
   "cell_type": "markdown",
   "metadata": {
    "id": "iBqIUN-WOnvW"
   },
   "source": [
    "### Task 9\n",
    "Write a python program that will take a string input from the user. Your task is to count the number of vowels and consonants in the string.\n",
    "\n",
    "Using try, if the number of vowels is greater than or equal to the number of consonants, then raise a runtime error. Print 'Number of vowels greater/equal to consonants. Please paraphrase.'.\\\n",
    "Otherwise, print 'The sentence will work.'. \n",
    "\n",
    "**Note:** a,e,i,o,u are called vowels and all the other 21 english alphabets are consonants.\n",
    "\n",
    "=============================\n",
    "\n",
    "**Example 1:** \\\n",
    "**Input:**\\\n",
    "'his age is 10'\\\n",
    "**Output:**\\\n",
    "Number of vowels greater/equal to consonants. Please paraphrase.\n",
    "\n",
    "=================\n",
    "\n",
    "**Example 2:** \\\n",
    "**Input:**\\\n",
    "'he is 10 years old'\\\n",
    "**Output:**\\\n",
    "The sentence will work."
   ]
  },
  {
   "cell_type": "code",
   "execution_count": 22,
   "metadata": {
    "colab": {
     "base_uri": "https://localhost:8080/"
    },
    "id": "-4kg2W2EPwVo",
    "outputId": "c3f4c900-bf05-48a1-8d0a-9395a2cb0331"
   },
   "outputs": [
    {
     "name": "stdin",
     "output_type": "stream",
     "text": [
      " his age is 10\n"
     ]
    },
    {
     "name": "stdout",
     "output_type": "stream",
     "text": [
      "Number of vowels greater/equal to consonants. Please paraphrase.\n"
     ]
    }
   ],
   "source": [
    "#to do\n",
    "\n",
    "A = input(\"\")\n",
    "A = A.lower()\n",
    "vowels = [\"a\", \"e\", \"i\", \"o\", \"u\"]\n",
    "vcount = 0\n",
    "ccount = 0\n",
    "for i in A: \n",
    "    if i.isalpha():\n",
    "        if i in vowels:\n",
    "            vcount += 1\n",
    "        else:\n",
    "            ccount += 1\n",
    "try:\n",
    "    if vcount >= ccount:\n",
    "        raise RuntimeError\n",
    "    else:\n",
    "        print(\"The sentence will work.\")\n",
    "except RuntimeError:\n",
    "    print(\"Number of vowels greater/equal to consonants. Please paraphrase.\")\n",
    "except Exception:\n",
    "    print(\"Other errors\")"
   ]
  },
  {
   "cell_type": "markdown",
   "metadata": {
    "id": "pl4CDeUkPxeM"
   },
   "source": [
    "### Task 10\n",
    "Write a python program that finds the corresponding energy values from a list of frequency values which are taken as input from the user, using the formula, $E=h*f$, where h is a constant of value: 1050\n",
    "\n",
    "Exceptions to handle:\n",
    "* Make sure all elements in the lists are numbers\n",
    "\n",
    "=============================\n",
    "\n",
    "**Example 1:** \\\n",
    "**Input:**\\\n",
    "[2,3]\\\n",
    "**Output:**\\\n",
    "[2100, 3150]\n",
    "\n",
    "=================\n",
    "\n",
    "**Example 2:** \\\n",
    "**Input:**\\\n",
    "[2,boss]\\\n",
    "**Output:**\\\n",
    "Wrong input type"
   ]
  },
  {
   "cell_type": "code",
   "execution_count": 33,
   "metadata": {
    "colab": {
     "base_uri": "https://localhost:8080/"
    },
    "id": "vdYQH9qnQvVo",
    "outputId": "f8783e6b-6294-485b-d6a8-dd799ff8a143"
   },
   "outputs": [
    {
     "name": "stdin",
     "output_type": "stream",
     "text": [
      "Enter a list:  [2,boss]\n"
     ]
    },
    {
     "name": "stdout",
     "output_type": "stream",
     "text": [
      "Wrong input type\n"
     ]
    }
   ],
   "source": [
    "#to do\n",
    "list1 = input(\"Enter a list: \")\n",
    "list1 = list1[1:-1]\n",
    "list1 = list1.split(\",\")\n",
    "list2 = []\n",
    "try:\n",
    "    for i in list1:\n",
    "        i = int(i)\n",
    "        i = i * 1050\n",
    "        list2.append(i)\n",
    "    print(list2)\n",
    "except ValueError:\n",
    "    print(\"Wrong input type\")\n",
    "except Exception:\n",
    "    print(\"Other errors\")"
   ]
  },
  {
   "cell_type": "markdown",
   "metadata": {
    "id": "GC6Y943uUNHY"
   },
   "source": [
    "### Task 11\n",
    "Imagine Salman Khan is going to the sets of a new movie. He decides to cycle everyday on his way to the sets. For that he uses a distance calculator which finds the distance based on the present day's date, which is asked as an input from the user. You should first take the day and then the month as your inputs.\n",
    "\n",
    "The inputs should be stored in variables named `day` and `month` .The distance calculator uses the following formula to calculate a number which dictates the number of kilometers he must cycle on his way to work.\n",
    "\n",
    "\n",
    "Distance = |if day<10, `5+(day*2)/month`\\\n",
    "&nbsp;&nbsp;&nbsp;&nbsp;&nbsp;&nbsp;&nbsp;&nbsp;&nbsp;&nbsp;&nbsp;&nbsp;&nbsp;&nbsp;&nbsp;&nbsp;&nbsp;&nbsp;&nbsp; |else, `3+(day/month)`\n",
    "\n",
    "\n",
    "Exceptions to handle:\\\n",
    "-Check for 0 division error exception in the formula\\\n",
    "-Type error exception when taking date as input(if the input does not contain number)\\\n",
    "-Value error exception, as day can not be greater than 31 and month can not be greater than 12\n",
    "\n",
    "\n",
    "\n",
    "\n",
    "\n",
    "=============================\n",
    "\n",
    "\n",
    "**Example 1:** \\\n",
    "**Input:**\\\n",
    "3\\\n",
    "5\\\n",
    "**Output:**\\\n",
    "6.2 kilometres\n",
    "\n",
    "=================\n",
    "\n",
    "**Example 2:** \\\n",
    "**Input:**\\\n",
    "2\\\n",
    "0\\\n",
    "**Output:**\\\n",
    "0 is not a valid month\n",
    "\n",
    "=============================\n",
    "\n",
    "**Example 3:** \\\n",
    "**Input:**\\\n",
    "35\\\n",
    "12\\\n",
    "**Output:**\\\n",
    "35 is not a valid day of any month\n",
    "\n",
    "=============================\n",
    "\n",
    "**Example 4:** \\\n",
    "**Input:**\\\n",
    "Hello\\\n",
    "12\\\n",
    "**Output:**\\\n",
    "Please do not enter any string as input\n",
    "\n",
    "=============================\n",
    "\n",
    "\n",
    "**Example 5:** \\\n",
    "**Input:**\\\n",
    "15\\\n",
    "12\\\n",
    "**Output:**\\\n",
    "4.25 kilometres\n",
    "\n",
    "\n",
    "**Example 6:** \\\n",
    "**Input:**\\\n",
    "2\\\n",
    "15\\\n",
    "**Output:**\\\n",
    "15 is not a valid month\n",
    "\n",
    "\n",
    "**Hint(1):**\\\n",
    "Can use the built-in isdigit() function OR the ASCII values to ensure numbers as inputs\n",
    "\n",
    "\n",
    "**Hint(2):**\\\n",
    "Print the outputs in the except block with the help of conditional statements\n",
    "\n",
    "\n"
   ]
  },
  {
   "cell_type": "code",
   "execution_count": 7,
   "metadata": {
    "id": "NOpi8SPREmVw"
   },
   "outputs": [
    {
     "name": "stdin",
     "output_type": "stream",
     "text": [
      "Enter Day: 3\n",
      "Enter Month: 5\n"
     ]
    },
    {
     "name": "stdout",
     "output_type": "stream",
     "text": [
      "6.2 kilometers\n"
     ]
    }
   ],
   "source": [
    "#to do\n",
    "try:\n",
    "    day = input(\"Enter Day:\")\n",
    "    month = input(\"Enter Month:\")\n",
    "\n",
    "    if day.isnumeric() == False or month.isnumeric() == False:\n",
    "        raise TypeError\n",
    "    else:\n",
    "        day = int(day)\n",
    "        month = int(month)\n",
    "        \n",
    "    if month == 0:\n",
    "        raise ZeroDivisionError\n",
    "\n",
    "    if day<1 or day>31:\n",
    "        raise ValueError\n",
    "    elif month<1 or month>12:\n",
    "        raise ValueError\n",
    "        \n",
    "    if  day<10:\n",
    "        Distance = 5+(day*2)/month\n",
    "    else:\n",
    "        Distance = 3+(day/month)\n",
    "        \n",
    "    print(Distance, \"kilometers\")\n",
    "\n",
    "except ZeroDivisionError:\n",
    "    print(\"0 is not a valid month\")\n",
    "    \n",
    "except TypeError:\n",
    "    print(\"Please do not enter any string as input\")\n",
    "\n",
    "except ValueError:\n",
    "    if day<1 or day>31:\n",
    "        print(day, \"is not a valid day of any month\")\n",
    "    else:\n",
    "        print(month, \"is not a valid month\")"
   ]
  },
  {
   "cell_type": "markdown",
   "metadata": {
    "id": "UrxbFOWk5ASO"
   },
   "source": [
    "## Optional Tasks (12-15)"
   ]
  },
  {
   "cell_type": "markdown",
   "metadata": {
    "id": "uIYrt-t8ETUQ"
   },
   "source": [
    "\n",
    "### Task 12\n",
    "Suppose you made a game and you stored information about the game play in a file.\\\n",
    "You stored Name, Score, Lives Used and Characters Killed of each players.\n",
    "\n",
    "**Existing file:**\\\n",
    "Mary,2000,5,25\\\n",
    "John,123455,12,50\\\n",
    "Peter,1500,5,10\\\n",
    "Harry,10000,10,30\\\n",
    "John,122,5,2\\\n",
    "Mary,5,1,1\\\n",
    "Peter,2,1,1\\\n",
    "John,123,5,10\\\n",
    "John,5,6,7\n",
    "\n",
    "**Now you have to make a new file where you have to store the following information:**\\\n",
    "1.In the first line you have to show the name and score of the player who scored the highest score.\n",
    "\n",
    "2.In the second line you have to store the name and lives used of players who used the least lives.\n",
    "\n",
    "3.In the third line you have to show the name and number of games played of the player who played the most games.\n",
    "\n",
    "**Output:**\\\n",
    "Name:John, Score:123455\\\n",
    "Name:Mary, Lives used:1\\\n",
    "Name:John, Games Played:4\n",
    "\n",
    "=========================================================\n",
    "\n",
    "**Hint(1):**\\\n",
    "Use dictionary where necessary.\\\n",
    "You are allowed to use max() min(), list.index(value) and str.split(separator) function.\n",
    "\n",
    "**Hint(2):**\\\n",
    "You need to use split function to get the data. The split function takes the separator as an argument.\n",
    "\n",
    "*Structure:*\n",
    "str.split(separator)\n",
    "\n",
    "*Example:*\n",
    "line = \"John,5,6,7\"\\\n",
    "line.split(',')\n",
    "\n",
    "**Hint(3):**\\\n",
    "You can use both write() and writelines() for writing the answers\n",
    "\n"
   ]
  },
  {
   "cell_type": "code",
   "execution_count": 9,
   "metadata": {
    "id": "0eB5wE1p-869"
   },
   "outputs": [
    {
     "name": "stdout",
     "output_type": "stream",
     "text": [
      "Name: John, Score: 123455\n",
      "Name: Mary, Lives Used: 1\n",
      "Name: John, Games Played: 4\n"
     ]
    }
   ],
   "source": [
    "#to do\n",
    "file = open(\"task12.txt\")\n",
    "list1 = file.readlines()\n",
    "# print(list1)\n",
    "\n",
    "players = {}\n",
    "max_score = 0\n",
    "least_lives = float(\"inf\")\n",
    "\n",
    "for i in list1:\n",
    "    i = i.split()\n",
    "    # print(i)\n",
    "    for j in i:\n",
    "        j = j.split(\",\")\n",
    "        # print(j)\n",
    "\n",
    "        # who played most games\n",
    "        name = j[0]\n",
    "        if name not in players.keys():\n",
    "            players[name] = [1]\n",
    "        else:\n",
    "            players[name].append(1)\n",
    "        \n",
    "        # who scored most\n",
    "        score = int(j[1])\n",
    "        if score > max_score:\n",
    "            max_score = int(j[1])\n",
    "            max_scorer = j[0]\n",
    "\n",
    "        # who used least lives\n",
    "        live_used = int(j[2])\n",
    "        if least_lives > live_used:\n",
    "            least_lives = live_used\n",
    "            least_lives_user = j[0]\n",
    "\n",
    "# print(players)\n",
    "\n",
    "# who played most games\n",
    "max_game_player = \"\"\n",
    "games_played = 0\n",
    "for k,v in players.items():\n",
    "    if len(v) > games_played:\n",
    "        games_played = len(v)\n",
    "        max_game_player = k\n",
    "    \n",
    "s1 = f\"Name: {max_scorer}, Score: {max_score}\\n\"\n",
    "s2 = f\"Name: {least_lives_user}, Lives Used: {least_lives}\\n\"\n",
    "s3 = f\"Name: {max_game_player}, Games Played: {games_played}\"\n",
    "\n",
    "print(s1 + s2 + s3)\n",
    "\n",
    "file2 = open(\"result12.txt\",\"w\")\n",
    "file2.write(s1 + s2 + s3)\n",
    "\n",
    "file.close()\n",
    "file2.close()"
   ]
  },
  {
   "cell_type": "markdown",
   "metadata": {
    "id": "SjU5ufx8Snv3"
   },
   "source": [
    "### Task 13\n",
    "Read a **file** from the user which contains the  name and salary of employees. Convert that to a dictionary where the key is the name of each employee and value is the salary of that employee. Then find the total cost for the company that it needs to pay through employees’ salary. Print the dictionary and sum if no exception occurs.\n",
    "\n",
    "Exception to handle:\n",
    "* check whether file is actually there or not.\n",
    "* check whether the salary in each line is a number or not.\n",
    "* raise error if there are extra numbers or names\n",
    "\n",
    "=============================\n",
    "\n",
    "**Example 1:** \\\n",
    "**Input:**\\\n",
    "Saadat 100\\\n",
    "Farzad 200\\\n",
    "Atef 300\\\n",
    "**Output:**\\\n",
    "dict={Saadat : 100, Farzad : 200, Atef : 300}\\\n",
    "Sum = 600\n",
    "\n",
    "=================\n",
    "\n",
    "**Example 2:** \\\n",
    "**Input:**\\\n",
    "Saadat 100\\\n",
    "Farzad 200\\\n",
    "Atef 300\\\n",
    "John\\\n",
    "**Output:**\\\n",
    "Extra Statement\n",
    "\n",
    "**Example 3:** \\\n",
    "**Input:**\\\n",
    "Saadat 100\\\n",
    "Farzad 200\\\n",
    "Atef john\\\n",
    "**Output:**\\\n",
    "Salary cannot be string\n"
   ]
  },
  {
   "cell_type": "code",
   "execution_count": 35,
   "metadata": {
    "id": "SUxJ1iCXUAPg"
   },
   "outputs": [
    {
     "name": "stdout",
     "output_type": "stream",
     "text": [
      "dict = {'Saadat': 100, 'Farzad': 200, 'Atef': 300}\n",
      "Sum = 600\n"
     ]
    }
   ],
   "source": [
    "#to do\n",
    "try:\n",
    "    file = open(\"task13.1.txt\")\n",
    "    # file = open(\"task13.2.txt\")\n",
    "    # file = open(\"task13.3.txt\")\n",
    "    list1 = file.readlines()\n",
    "    dict = {}\n",
    "\n",
    "    for i in list1:\n",
    "        i = i.split()\n",
    "        k,v = i\n",
    "        if v.isnumeric() == False:\n",
    "            raise TypeError\n",
    "        else:\n",
    "            v = int(v)\n",
    "            dict[k] = v\n",
    "\n",
    "    sum = 0\n",
    "    for k,v in dict.items():\n",
    "        sum += dict[k]\n",
    "\n",
    "    print(\"dict =\", dict)\n",
    "    print(\"Sum =\", sum)\n",
    "    \n",
    "    file.close()\n",
    "\n",
    "except FileNotFoundError:\n",
    "    print(\"File not found. Please correct your file lcation\")\n",
    "except TypeError:\n",
    "    print(\"Salary cannot be string\")\n",
    "except ValueError:\n",
    "    print(\"Extra Statement\")"
   ]
  },
  {
   "cell_type": "markdown",
   "metadata": {
    "id": "2Xzq6xJNWvbf"
   },
   "source": [
    "### Task 14\n",
    "Write a python program to make a calculator. The user must input a string consisting of a number, operator and another number separated by white spaces.\n",
    "* If the user’s input does not contain 3 elements, raise an **exception error** stating \"Input does not contain 3 elements/Wrong operator\".\n",
    "* If the user inputs any other values except numbers in first and third position of the input, raise **value error** exception stating \"Input does not contain numbers.\" \n",
    "* If the user does not input \"+\" or \"-\" or \"/\" or \"*\" or \"%\" in second position of the input, again raise an **exception error** stating \"Input does not contain 3 elements/Wrong operator\".\n",
    "\n",
    "* In case of division, also handle **divide by zero exception**.\n",
    "\n",
    "\n",
    "If all the inputs are correct, calculate the result and print the value.\n",
    "\n",
    "\n",
    "=============================\n",
    "\n",
    "\n",
    "**Example 1:** \\\n",
    "**Input:**\\\n",
    "1 + 1 + 1\\\n",
    "**Output:**\\\n",
    "Input does not contain 3 elements/Wrong operator\n",
    "\n",
    "=================\n",
    "\n",
    "**Example 2:** \\\n",
    "**Input:**\\\n",
    "A * B\\\n",
    "**Output:**\\\n",
    "Input does not contain numbers.\n",
    "\n",
    "=================\n",
    "\n",
    "**Example 3:** \\\n",
    "**Input:**\\\n",
    "1 $ 3\\\n",
    "**Output:**\\\n",
    "Input does not contain 3 elements/Wrong operator\n",
    "\n",
    "=================\n",
    "\n",
    "**Example 4:** \\\n",
    "**Input:**\\\n",
    "1 + 1\\\n",
    "**Output:**\\\n",
    "The answer is : 2\n"
   ]
  },
  {
   "cell_type": "code",
   "execution_count": 27,
   "metadata": {},
   "outputs": [
    {
     "name": "stdin",
     "output_type": "stream",
     "text": [
      " 1 + 1\n"
     ]
    },
    {
     "name": "stdout",
     "output_type": "stream",
     "text": [
      "The answer is : 2\n"
     ]
    }
   ],
   "source": [
    "#to do\n",
    "inp = input(\"\").strip().split()\n",
    "\n",
    "if len(inp) != 3:\n",
    "    raise Exception(\"Input does not contain 3 elements/Wrong operator\")\n",
    "\n",
    "num1 = inp[0]\n",
    "ope = inp[1]\n",
    "num2 = inp[2]\n",
    "\n",
    "if num1.isnumeric() == False or num2.isnumeric() == False:\n",
    "    raise ValueError(\"Input does not contain numbers.\")\n",
    "else:\n",
    "    num1 = int(num1)\n",
    "    num2 = int(num2)\n",
    "        \n",
    "if ope == \"+\":\n",
    "    result = num1 + num2\n",
    "elif ope == \"-\":\n",
    "    result = num1 - num2\n",
    "elif ope == \"/\":\n",
    "    if num2 == 0:\n",
    "        raise ZeroDivisionError(\"Denominator Cannot be zero\")\n",
    "    result = num1 / num2\n",
    "elif ope == \"*\":\n",
    "    result = num1 * num2\n",
    "elif ope == \"%\":\n",
    "    result = num1 % num2\n",
    "else:\n",
    "    raise Exception(\"Input does not contain 3 elements/Wrong operator\")\n",
    "        \n",
    "print(\"The answer is :\",result)"
   ]
  },
  {
   "cell_type": "markdown",
   "metadata": {
    "id": "RdshPzpJRcsD"
   },
   "source": [
    "### Task 15\n",
    "Write a python function that will remove a given character from a sentence based on the starting and ending index of the sentence. In the place of the removed characters, add the count of the number of characters removed so far. For this program, you need to take 4 user inputs.\n",
    "* Sentence\n",
    "* Character to be removed\n",
    "* Starting index (inclusive)\n",
    "* Ending index (inclusive)\n",
    "\n",
    "Few exceptions to catch: \n",
    "* Name Error if a variable is not found. Print ‘Name Error: Variable not defined’\n",
    "* Value Error if the starting index and ending index is not an integer. Print ‘Value Error: Wrong input, please enter an integer value.’\n",
    "* Type Error when adding count in the new sentence. Print ‘Type Error: Cannot add integer value with string.’\n",
    "* Index Error if the starting and ending index is out of range. Print ‘Index Error: Index is outside the range of sentence length.’\n",
    "* For other exceptions, catch Exception. Print ‘Some other error occurred.’\n",
    "\n",
    "If no exception occurred, print the new string using else block. At the end using finally, print ‘The program execution is complete’.\n",
    "\n",
    "=============================\n",
    "\n",
    "**Example 1:** \\\n",
    "**Input:**\\\n",
    "'my python programming book'\\\n",
    "'m'\\\n",
    "2\\\n",
    "20\\\n",
    "**Output:**\\\n",
    "my python progra12ing book\\\n",
    "The program execution is complete\n",
    "\n",
    "=================\n",
    "\n",
    "**Example 2:** \\\n",
    "**Input:**\\\n",
    "'my python programming book'\\\n",
    "'m'\\\n",
    "2.5\\\n",
    "20\\\n",
    "**Output:**\\\n",
    "Value Error: Wrong input, please enter an integer value.\\\n",
    "The program execution is complete\n",
    "\n",
    "=================\n",
    "\n",
    "**Example 3:** \\\n",
    "**Input:**\\\n",
    "'my python programming book'\\\n",
    "'m'\\\n",
    "2\\\n",
    "100\\\n",
    "**Output:**\\\n",
    "Index Error: Index is outside the range of sentence length.\\\n",
    "The program execution is complete\n",
    "\n",
    "=================\n",
    "\n",
    "**Hint(1):**\\\n",
    "For ensuring starting index and ending index value to be integer use the builtin function isinstance(value, data_type)\n"
   ]
  },
  {
   "cell_type": "code",
   "execution_count": 8,
   "metadata": {
    "id": "bcU6dV5BSl7d"
   },
   "outputs": [
    {
     "name": "stdin",
     "output_type": "stream",
     "text": [
      "Sectence: my python programming book\n",
      "The character you want to remove: m\n",
      "Start from: 2\n",
      "End at: 20\n"
     ]
    },
    {
     "name": "stdout",
     "output_type": "stream",
     "text": [
      " python progra12ing\n",
      "The program execution is complete\n"
     ]
    }
   ],
   "source": [
    "#to do\n",
    "\n",
    "try:\n",
    "    sentence = input(\"Sectence:\")\n",
    "    char_tb_removed = input(\"The character you want to remove:\")\n",
    "    start = input(\"Start from:\")\n",
    "    end = input(\"End at:\")\n",
    "    if start.isnumeric() == False or end.isnumeric() == False:\n",
    "        raise ValueError\n",
    "    else:\n",
    "        start = int(start)\n",
    "        end = int(end)\n",
    "\n",
    "    new_sentence = \"\"\n",
    "    count = 1\n",
    "    for i in range(start, end+1):\n",
    "        if sentence[i] != char_tb_removed:\n",
    "            new_sentence += sentence[i]\n",
    "        else:\n",
    "            try:\n",
    "                new_sentence += str(count)\n",
    "                count += 1\n",
    "            except TypeError:\n",
    "                print(\"Type Error: Cannot add integer value with string\")\n",
    "\n",
    "\n",
    "except NameError:\n",
    "    print(\"Name Error: Variable not defined\")\n",
    "except ValueError:\n",
    "    print(\"Value Error: Wrong input, please enter an integer value\")\n",
    "except IndexError:\n",
    "    print(\"Index Error: Index is outside the range of sentence length\")\n",
    "except Exception:\n",
    "    print(\"Some other error occurred\")\n",
    "\n",
    "else:\n",
    "    print(new_sentence)\n",
    "\n",
    "finally:\n",
    "    print(\"The program execution is complete\")"
   ]
  }
 ],
 "metadata": {
  "colab": {
   "collapsed_sections": [],
   "name": "21201613_MD.Shafiur_Rahman_15_CSE110_Lab_Assignment_8.ipynb",
   "provenance": []
  },
  "kernelspec": {
   "display_name": "Python 3 (ipykernel)",
   "language": "python",
   "name": "python3"
  },
  "language_info": {
   "codemirror_mode": {
    "name": "ipython",
    "version": 3
   },
   "file_extension": ".py",
   "mimetype": "text/x-python",
   "name": "python",
   "nbconvert_exporter": "python",
   "pygments_lexer": "ipython3",
   "version": "3.10.2"
  }
 },
 "nbformat": 4,
 "nbformat_minor": 4
}
